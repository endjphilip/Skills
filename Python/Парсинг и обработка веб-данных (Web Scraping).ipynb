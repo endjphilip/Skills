{
 "cells": [
  {
   "cell_type": "markdown",
   "id": "738d0980",
   "metadata": {},
   "source": [
    "requests"
   ]
  },
  {
   "cell_type": "code",
   "execution_count": 1,
   "id": "b4a0fc67",
   "metadata": {},
   "outputs": [
    {
     "name": "stdout",
     "output_type": "stream",
     "text": [
      "Статус ответа: 200\n",
      "HTML-код страницы сохранен в файл page_content.html\n"
     ]
    }
   ],
   "source": [
    "import requests\n",
    "\n",
    "# Отправка GET-запроса\n",
    "url = 'https://www.example.com/'  \n",
    "response = requests.get(url)\n",
    "\n",
    "# Проверка статуса ответа\n",
    "print(f'Статус ответа: {response.status_code}')  # 200 означает успех\n",
    "\n",
    "# Сохранение HTML-кода страницы в файл\n",
    "with open('page_content.html', 'w', encoding='utf-8') as file:\n",
    "    file.write(response.text)\n",
    "\n",
    "print('HTML-код страницы сохранен в файл page_content.html')\n"
   ]
  },
  {
   "cell_type": "markdown",
   "id": "6467cf20",
   "metadata": {},
   "source": [
    "Beautiful Soup"
   ]
  },
  {
   "cell_type": "code",
   "execution_count": 3,
   "id": "620824ba",
   "metadata": {},
   "outputs": [
    {
     "name": "stdout",
     "output_type": "stream",
     "text": [
      "Requirement already satisfied: beautifulsoup4 in c:\\users\\123\\anaconda3\\lib\\site-packages (4.11.1)\n",
      "Requirement already satisfied: soupsieve>1.2 in c:\\users\\123\\anaconda3\\lib\\site-packages (from beautifulsoup4) (2.3.2.post1)\n",
      "Note: you may need to restart the kernel to use updated packages.\n"
     ]
    }
   ],
   "source": [
    "pip install beautifulsoup4"
   ]
  },
  {
   "cell_type": "code",
   "execution_count": 43,
   "id": "6d2341b2",
   "metadata": {},
   "outputs": [],
   "source": [
    "import requests\n",
    "from bs4 import BeautifulSoup\n",
    "\n",
    "# URL новостного сайта\n",
    "url = 'https://news.mail.ru/inregions/south/23/'  # Пример: главная страница новостного сайта\n",
    "\n",
    "# Отправка GET-запроса\n",
    "request = requests.get(url).text"
   ]
  },
  {
   "cell_type": "code",
   "execution_count": 44,
   "id": "b6114687",
   "metadata": {},
   "outputs": [],
   "source": [
    "soup = BeautifulSoup(request, 'html.parser')"
   ]
  },
  {
   "cell_type": "code",
   "execution_count": 45,
   "id": "534a6f15",
   "metadata": {},
   "outputs": [],
   "source": [
    "headers = soup.find_all('a', class_='list__text')"
   ]
  },
  {
   "cell_type": "code",
   "execution_count": 48,
   "id": "6fc00edf",
   "metadata": {},
   "outputs": [
    {
     "name": "stdout",
     "output_type": "stream",
     "text": [
      "В Геленджике приостановили работу двух канатных дорог\n",
      "Прогноз погоды на Кубани с 21 по 23 сентября\n",
      "Останки зубастого кита нашли на берегу реки Кубань\n",
      "Выращивание рыбы в Азовском море полностью лежит на России\n",
      "Рейсовый автобус сгорел в Темрюке\n",
      "Мужчина по ошибке 18 лет оплачивал счет соседа за электричество\n",
      "В Геленджике открыта вакансия вице-мэра по строительству\n",
      "В администрации Апшеронска прокомментировали сообщения о якобы задержании мэра\n",
      "Казаков Кубани смогут привлекать в мобилизационный резерв ВС России\n",
      "Ты узнаешь его из тысячи: как на Кубани производят мороженое\n",
      "В Краснодарском крае снова подорожал бензин\n",
      "На Кубани до 2030 года создадут восемь промпарков\n",
      "В Краснодарском крае прогнозируют смерчи над Черным морем\n",
      "Опасность формирования смерчей прогнозируют на Кубани 20 сентября\n",
      "Грозы и усиление ветра прогнозируют в Сочи и на ФТ «Сириус»\n",
      "Еще двух сапбордисток унесло в море в районе Туапсе\n",
      "Шестилетний мальчик, пострадавший в ДТП на Кубани, умер в больнице\n",
      "В Сочи в массовой аварии пострадали пять человек, в том числе двое детей\n"
     ]
    }
   ],
   "source": [
    "for headline in headers:\n",
    "    print(headline.text)"
   ]
  },
  {
   "cell_type": "code",
   "execution_count": 88,
   "id": "69a17849",
   "metadata": {},
   "outputs": [],
   "source": [
    "url = 'https://iboxstore.ru/catalog/kombo-ustroystva/'"
   ]
  },
  {
   "cell_type": "code",
   "execution_count": 89,
   "id": "6e802f53",
   "metadata": {},
   "outputs": [
    {
     "data": {
      "text/plain": [
       "<Response [200]>"
      ]
     },
     "execution_count": 89,
     "metadata": {},
     "output_type": "execute_result"
    }
   ],
   "source": [
    "request = requests.get(url)\n",
    "request"
   ]
  },
  {
   "cell_type": "code",
   "execution_count": 90,
   "id": "70537512",
   "metadata": {},
   "outputs": [],
   "source": [
    "soup = BeautifulSoup(request.text, 'html.parser')"
   ]
  },
  {
   "cell_type": "code",
   "execution_count": 91,
   "id": "561fcd0e",
   "metadata": {},
   "outputs": [],
   "source": [
    "elements = soup.select('div.product__price-current, a.title--h4')"
   ]
  },
  {
   "cell_type": "code",
   "execution_count": 92,
   "id": "fdd323d9",
   "metadata": {},
   "outputs": [
    {
     "name": "stdout",
     "output_type": "stream",
     "text": [
      "iBOX EVO 4K + Камера заднего вида\n",
      "30 499 ₽\n",
      "iBOX EVO 4K\n",
      "27 999 ₽\n",
      "iBOX Range 2 + Камера заднего вида\n",
      "27 499 ₽\n",
      "iBOX F5 PRO 4K\n",
      "24 999 ₽\n",
      "iBOX F5 LaserScan\n",
      "20 999 ₽\n",
      "iBOX EVO\n",
      "21 999 ₽\n",
      "iBOX Nova + Поляризационный фильтр\n",
      "16 699 ₽\n",
      "iBOX iCON LaserVision\n",
      "19 999 ₽\n",
      "iBOX EVO 4K + Внутрисалонная камера\n",
      "30 499 ₽\n",
      "iBOX F5 LaserScan + Внутрисалонная камера\n",
      "23 499 ₽\n",
      "iBOX iCON LaserVision + Внутрисалонная камера\n",
      "22 499 ₽\n",
      "iBOX Alta + Камера заднего вида\n",
      "15 999 ₽\n"
     ]
    }
   ],
   "source": [
    "for i in elements:\n",
    "    print(i.text)"
   ]
  },
  {
   "cell_type": "markdown",
   "id": "8aa02252",
   "metadata": {},
   "source": [
    "Обработка и сохранение данных"
   ]
  },
  {
   "cell_type": "code",
   "execution_count": 103,
   "id": "586427bc",
   "metadata": {},
   "outputs": [],
   "source": [
    "import pandas as pd"
   ]
  },
  {
   "cell_type": "code",
   "execution_count": 93,
   "id": "dc3bbfb6",
   "metadata": {},
   "outputs": [],
   "source": [
    "url = 'https://mail.ru/'"
   ]
  },
  {
   "cell_type": "code",
   "execution_count": 94,
   "id": "fe76e9de",
   "metadata": {},
   "outputs": [
    {
     "data": {
      "text/plain": [
       "<Response [200]>"
      ]
     },
     "execution_count": 94,
     "metadata": {},
     "output_type": "execute_result"
    }
   ],
   "source": [
    "request = requests.get(url)\n",
    "request"
   ]
  },
  {
   "cell_type": "code",
   "execution_count": 100,
   "id": "4d77602a",
   "metadata": {},
   "outputs": [],
   "source": [
    "soup = BeautifulSoup(request.text, 'html.parser')"
   ]
  },
  {
   "cell_type": "code",
   "execution_count": 112,
   "id": "e381ae7a",
   "metadata": {},
   "outputs": [],
   "source": [
    "obrabotka = soup.find_all('span', class_='news__list__item__link__text')"
   ]
  },
  {
   "cell_type": "code",
   "execution_count": 113,
   "id": "b38a0222",
   "metadata": {},
   "outputs": [],
   "source": [
    "df = pd.DataFrame(obrabotka, columns=['Заголовок'])"
   ]
  },
  {
   "cell_type": "code",
   "execution_count": 114,
   "id": "da944726",
   "metadata": {},
   "outputs": [
    {
     "data": {
      "text/html": [
       "<div>\n",
       "<style scoped>\n",
       "    .dataframe tbody tr th:only-of-type {\n",
       "        vertical-align: middle;\n",
       "    }\n",
       "\n",
       "    .dataframe tbody tr th {\n",
       "        vertical-align: top;\n",
       "    }\n",
       "\n",
       "    .dataframe thead th {\n",
       "        text-align: right;\n",
       "    }\n",
       "</style>\n",
       "<table border=\"1\" class=\"dataframe\">\n",
       "  <thead>\n",
       "    <tr style=\"text-align: right;\">\n",
       "      <th></th>\n",
       "      <th>Заголовок</th>\n",
       "    </tr>\n",
       "  </thead>\n",
       "  <tbody>\n",
       "    <tr>\n",
       "      <th>0</th>\n",
       "      <td>Песков: военные России вернут контроль над Кур...</td>\n",
       "    </tr>\n",
       "    <tr>\n",
       "      <th>1</th>\n",
       "      <td>Главные новости недели</td>\n",
       "    </tr>\n",
       "    <tr>\n",
       "      <th>2</th>\n",
       "      <td>«Царь-бомба»: на Западе забили тревогу из-за с...</td>\n",
       "    </tr>\n",
       "    <tr>\n",
       "      <th>3</th>\n",
       "      <td>«Путин дал понять». В США сделали заявление о ...</td>\n",
       "    </tr>\n",
       "    <tr>\n",
       "      <th>4</th>\n",
       "      <td>Зеленский сделал новое заявление о завершении ...</td>\n",
       "    </tr>\n",
       "    <tr>\n",
       "      <th>...</th>\n",
       "      <td>...</td>\n",
       "    </tr>\n",
       "    <tr>\n",
       "      <th>95</th>\n",
       "      <td>В России выпустили микрофоны размером с гороши...</td>\n",
       "    </tr>\n",
       "    <tr>\n",
       "      <th>96</th>\n",
       "      <td>Умный браслет Xiaomi за 3 тысячи рублей удивил...</td>\n",
       "    </tr>\n",
       "    <tr>\n",
       "      <th>97</th>\n",
       "      <td>Посмотрите на единственный в мире офис на рель...</td>\n",
       "    </tr>\n",
       "    <tr>\n",
       "      <th>98</th>\n",
       "      <td>В Steam появился симулятор гопника за 25 рублей</td>\n",
       "    </tr>\n",
       "    <tr>\n",
       "      <th>99</th>\n",
       "      <td>5 мая пройдет лунное затмение. Вот что нужно з...</td>\n",
       "    </tr>\n",
       "  </tbody>\n",
       "</table>\n",
       "<p>100 rows × 1 columns</p>\n",
       "</div>"
      ],
      "text/plain": [
       "                                            Заголовок\n",
       "0   Песков: военные России вернут контроль над Кур...\n",
       "1                              Главные новости недели\n",
       "2   «Царь-бомба»: на Западе забили тревогу из-за с...\n",
       "3   «Путин дал понять». В США сделали заявление о ...\n",
       "4   Зеленский сделал новое заявление о завершении ...\n",
       "..                                                ...\n",
       "95  В России выпустили микрофоны размером с гороши...\n",
       "96  Умный браслет Xiaomi за 3 тысячи рублей удивил...\n",
       "97  Посмотрите на единственный в мире офис на рель...\n",
       "98    В Steam появился симулятор гопника за 25 рублей\n",
       "99  5 мая пройдет лунное затмение. Вот что нужно з...\n",
       "\n",
       "[100 rows x 1 columns]"
      ]
     },
     "execution_count": 114,
     "metadata": {},
     "output_type": "execute_result"
    }
   ],
   "source": [
    "df"
   ]
  },
  {
   "cell_type": "code",
   "execution_count": 116,
   "id": "4705e312",
   "metadata": {},
   "outputs": [
    {
     "data": {
      "text/plain": [
       "[['iBOX EVO 4K + Камера заднего вида', '30 499₽'],\n",
       " ['iBOX EVO 4K', '27 999₽'],\n",
       " ['iBOX Range 2 + Камера заднего вида', '27 499₽'],\n",
       " ['iBOX F5 PRO 4K', '24 999₽'],\n",
       " ['iBOX F5 LaserScan', '20 999₽'],\n",
       " ['iBOX EVO', '21 999₽'],\n",
       " ['iBOX Nova + Поляризационный фильтр', '16 699₽'],\n",
       " ['iBOX iCON LaserVision', '19 999₽'],\n",
       " ['iBOX EVO 4K + Внутрисалонная камера', '30 499₽'],\n",
       " ['iBOX F5 LaserScan + Внутрисалонная камера', '23 499₽'],\n",
       " ['iBOX iCON LaserVision + Внутрисалонная камера', '22 499₽'],\n",
       " ['iBOX Alta + Камера заднего вида', '15 999₽']]"
      ]
     },
     "execution_count": 116,
     "metadata": {},
     "output_type": "execute_result"
    }
   ],
   "source": [
    "import requests\n",
    "from bs4 import BeautifulSoup\n",
    "import csv\n",
    "\n",
    "# URL веб-страницы\n",
    "url = 'https://iboxstore.ru/catalog/kombo-ustroystva/'  # Замените на нужный URL\n",
    "\n",
    "# Запрос к веб-странице\n",
    "response = requests.get(url)\n",
    "soup = BeautifulSoup(response.content, 'html.parser')\n",
    "\n",
    "# Извлечение данных\n",
    "data = []\n",
    "# Пример извлечения данных из div с классом 'product__price-current' и a с классом 'title--h4'\n",
    "for product in soup.find_all('div', class_='product__price-current'):\n",
    "    price_text = product.get_text(strip=True)  # Очистка текста от лишних символов\n",
    "    title = product.find_previous('a', class_='title--h4')  # Поиск заголовка\n",
    "    if title:\n",
    "        title_text = title.get_text(strip=True)\n",
    "        data.append([title_text, price_text])  # Добавление данных в список\n",
    "data"
   ]
  },
  {
   "cell_type": "code",
   "execution_count": 117,
   "id": "ffe38a09",
   "metadata": {},
   "outputs": [
    {
     "name": "stdout",
     "output_type": "stream",
     "text": [
      "Данные успешно сохранены в data.csv\n"
     ]
    }
   ],
   "source": [
    "# Сохранение в файл CSV\n",
    "with open('data.csv', 'w', newline='', encoding='utf-8-sig') as csvfile:\n",
    "    writer = csv.writer(csvfile)\n",
    "    writer.writerow(['Title', 'Price'])  # Запись заголовков\n",
    "    writer.writerows(data)  # Запись данных\n",
    "\n",
    "print(\"Данные успешно сохранены в data.csv\")"
   ]
  },
  {
   "cell_type": "code",
   "execution_count": 118,
   "id": "2cfc4ad5",
   "metadata": {},
   "outputs": [
    {
     "name": "stdout",
     "output_type": "stream",
     "text": [
      "Данные успешно сохранены в data.json\n"
     ]
    }
   ],
   "source": [
    "# Сохранение в файл JSON\n",
    "with open('data.json', 'w', encoding='utf-8') as jsonfile:\n",
    "    json.dump(data, jsonfile, ensure_ascii=False, indent=4)  # Запись данных в JSON\n",
    "\n",
    "print(\"Данные успешно сохранены в data.json\")"
   ]
  },
  {
   "cell_type": "markdown",
   "id": "6f3d9565",
   "metadata": {},
   "source": [
    "Этические аспекты парсинга"
   ]
  },
  {
   "cell_type": "code",
   "execution_count": 123,
   "id": "5efa58a3",
   "metadata": {},
   "outputs": [],
   "source": [
    "import time\n",
    "from urllib.robotparser import RobotFileParser"
   ]
  },
  {
   "cell_type": "code",
   "execution_count": 124,
   "id": "f3d4f8d9",
   "metadata": {},
   "outputs": [
    {
     "name": "stdout",
     "output_type": "stream",
     "text": [
      "Парсинг разрешен\n"
     ]
    }
   ],
   "source": [
    "rp = RobotFileParser()\n",
    "rp.set_url(\"https://mail.ru/\")\n",
    "rp.read()\n",
    "if rp.can_fetch(\"*\", \"https://mail.ru/\"):\n",
    "      print('Парсинг разрешен')\n",
    "else:\n",
    "      print('Парсинг запрещён')"
   ]
  },
  {
   "cell_type": "code",
   "execution_count": 125,
   "id": "091ddeb5",
   "metadata": {},
   "outputs": [
    {
     "name": "stdout",
     "output_type": "stream",
     "text": [
      "Запрос прошёл\n",
      "Запрос прошёл\n",
      "Запрос прошёл\n",
      "Запрос прошёл\n",
      "Запрос прошёл\n",
      "Запрос прошёл\n",
      "Запрос прошёл\n",
      "Запрос прошёл\n",
      "Запрос прошёл\n",
      "Запрос прошёл\n"
     ]
    }
   ],
   "source": [
    " for i in range(10):\n",
    "    response = requests.get('https://mail.ru/')\n",
    "    time.sleep(1)\n",
    "    if response.status_code == 200:\n",
    "        print(\"Запрос прошёл\")\n",
    "    else:\n",
    "        print(\"Запрос отклонён\")"
   ]
  }
 ],
 "metadata": {
  "kernelspec": {
   "display_name": "Python 3 (ipykernel)",
   "language": "python",
   "name": "python3"
  },
  "language_info": {
   "codemirror_mode": {
    "name": "ipython",
    "version": 3
   },
   "file_extension": ".py",
   "mimetype": "text/x-python",
   "name": "python",
   "nbconvert_exporter": "python",
   "pygments_lexer": "ipython3",
   "version": "3.10.9"
  }
 },
 "nbformat": 4,
 "nbformat_minor": 5
}
