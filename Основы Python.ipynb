{
 "cells": [
  {
   "cell_type": "code",
   "execution_count": 1,
   "id": "dd159e1b-d24a-42bb-8b85-fb59481e3f01",
   "metadata": {},
   "outputs": [],
   "source": [
    "количество_студентов = 25  # int\n",
    "средний_балл = 4.7  # float\n",
    "название_курса = \"Введение в Python\"  # str\n",
    "прошел_курс = True  # bool"
   ]
  },
  {
   "cell_type": "code",
   "execution_count": 2,
   "id": "74aea8fe-7ec1-429d-b820-c813494f55df",
   "metadata": {},
   "outputs": [
    {
     "name": "stdout",
     "output_type": "stream",
     "text": [
      "<class 'int'>\n",
      "<class 'float'>\n",
      "<class 'str'>\n",
      "<class 'bool'>\n"
     ]
    }
   ],
   "source": [
    "print(type(количество_студентов))  # <class 'int'>\n",
    "\n",
    "print(type(средний_балл))  # <class 'float'>\n",
    "\n",
    "print(type(название_курса))  # <class 'str'>\n",
    "\n",
    "print(type(прошел_курс))  # <class 'bool'>"
   ]
  },
  {
   "cell_type": "code",
   "execution_count": 3,
   "id": "7cc6c3ae-eb62-4c55-b692-695d6aa67852",
   "metadata": {},
   "outputs": [
    {
     "name": "stdout",
     "output_type": "stream",
     "text": [
      "30\n"
     ]
    }
   ],
   "source": [
    "сумма = количество_студентов + 5\n",
    "print(сумма)  # 30"
   ]
  },
  {
   "cell_type": "code",
   "execution_count": 4,
   "id": "29d3a7b6-178b-4aec-aef2-c200e4ae7440",
   "metadata": {},
   "outputs": [
    {
     "name": "stdout",
     "output_type": "stream",
     "text": [
      "Введение в Python (часть 1)\n"
     ]
    }
   ],
   "source": [
    "новое_название = название_курса + \" (часть 1)\"\n",
    "\n",
    "print(новое_название)  # Введение в Python (часть 1)"
   ]
  },
  {
   "cell_type": "code",
   "execution_count": 5,
   "id": "e7a8dba4-2c0e-4731-b113-d430ca0f05b1",
   "metadata": {},
   "outputs": [
    {
     "name": "stdout",
     "output_type": "stream",
     "text": [
      "25\n",
      "10\n"
     ]
    }
   ],
   "source": [
    "строка_из_числа = str(количество_студентов)\n",
    "\n",
    "print(строка_из_числа)  # \"25\"\n",
    "\n",
    "число_из_строки = int(\"10\")\n",
    "\n",
    "print(число_из_строки)  # 10"
   ]
  },
  {
   "cell_type": "code",
   "execution_count": 6,
   "id": "0e0f9d14-cd43-4c0e-ba07-fee462117bfe",
   "metadata": {},
   "outputs": [],
   "source": [
    "любимые_книги = [\"Гарри Поттер\", \"Властелин колец\", \"1984\"]"
   ]
  },
  {
   "cell_type": "code",
   "execution_count": 7,
   "id": "08e2a402-97e1-4b21-a613-08ce15485c36",
   "metadata": {},
   "outputs": [
    {
     "name": "stdout",
     "output_type": "stream",
     "text": [
      "Гарри Поттер\n",
      "1984\n"
     ]
    }
   ],
   "source": [
    "print(любимые_книги[0])  # \"Гарри Поттер\"\n",
    "\n",
    "print(любимые_книги[-1])  # \"1984\""
   ]
  },
  {
   "cell_type": "code",
   "execution_count": 8,
   "id": "a6970667-9ebd-4f85-93e0-b82fe32e5e5e",
   "metadata": {},
   "outputs": [
    {
     "name": "stdout",
     "output_type": "stream",
     "text": [
      "['Гарри Поттер', 'Властелин колец', '1984', 'Мартин Иден']\n"
     ]
    }
   ],
   "source": [
    "любимые_книги.append(\"Мартин Иден\")\n",
    "\n",
    "print(любимые_книги)  # [\"Гарри Поттер\", \"Властелин колец\", \"1984\", \"Мартин Иден\"]"
   ]
  },
  {
   "cell_type": "code",
   "execution_count": 9,
   "id": "907ca8e6-b3c4-447f-880d-6b29f9c628b4",
   "metadata": {},
   "outputs": [
    {
     "name": "stdout",
     "output_type": "stream",
     "text": [
      "['Гарри Поттер', 'Властелин колец', 'Мартин Иден']\n"
     ]
    }
   ],
   "source": [
    "del любимые_книги[2]\n",
    "\n",
    "print(любимые_книги)  # [\"Гарри Поттер\", \"Властелин колец\", \"Мартин Иден\"]"
   ]
  },
  {
   "cell_type": "code",
   "execution_count": 10,
   "id": "5d003f2f-c5b5-4939-9ecf-2fd0af8f74ac",
   "metadata": {},
   "outputs": [
    {
     "name": "stdout",
     "output_type": "stream",
     "text": [
      "['Властелин колец', 'Гарри Поттер', 'Мартин Иден']\n"
     ]
    }
   ],
   "source": [
    "любимые_книги.sort()\n",
    "\n",
    "print(любимые_книги)  # [\"Гарри Поттер\", \"Властелин колец\", \"Мартин Иден\"]"
   ]
  },
  {
   "cell_type": "code",
   "execution_count": 11,
   "id": "3f6a2317-0625-4ef6-bbcb-b0b53d1bb85f",
   "metadata": {},
   "outputs": [
    {
     "name": "stdout",
     "output_type": "stream",
     "text": [
      "[2, 4, 6, 8, 10]\n"
     ]
    }
   ],
   "source": [
    "четные_числа = list(range(1, 11))[1::2]\n",
    "\n",
    "print(четные_числа)  # [2, 4, 6, 8, 10]"
   ]
  },
  {
   "cell_type": "code",
   "execution_count": 12,
   "id": "8b6435f9-7130-48fb-a6df-b88ec93f4ea7",
   "metadata": {},
   "outputs": [
    {
     "name": "stdout",
     "output_type": "stream",
     "text": [
      "Москва\n",
      "{'Россия': 'Москва', 'Франция': 'Париж', 'Германия': 'Берлин', 'Испания': 'Мадрид'}\n",
      "Столица Италии не найдена\n"
     ]
    }
   ],
   "source": [
    "# Создание словаря\n",
    "\n",
    "столицы = {\"Россия\": \"Москва\", \"Франция\": \"Париж\", \"Германия\": \"Берлин\"}\n",
    "\n",
    "\n",
    "\n",
    "# Доступ к значению по ключу\n",
    "\n",
    "print(столицы[\"Россия\"])  # \"Москва\"\n",
    "\n",
    "\n",
    "\n",
    "# Добавление новой пары ключ-значение\n",
    "\n",
    "столицы[\"Испания\"] = \"Мадрид\"\n",
    "\n",
    "print(столицы)  # {\"Россия\": \"Москва\", \"Франция\": \"Париж\", \"Германия\": \"Берлин\", \"Испания\": \"Мадрид\"}\n",
    "\n",
    "\n",
    "\n",
    "# Проверка наличия ключа\n",
    "\n",
    "if \"Италия\" in столицы:\n",
    "\n",
    "  print(столицы[\"Италия\"])\n",
    "\n",
    "else:\n",
    "\n",
    "  print(\"Столица Италии не найдена\")"
   ]
  },
  {
   "cell_type": "code",
   "execution_count": 13,
   "id": "189d1045-1011-4271-9b62-a90b2a158d07",
   "metadata": {},
   "outputs": [
    {
     "name": "stdout",
     "output_type": "stream",
     "text": [
      "Введите число: 2\n",
      "Число положительное\n",
      "2 4 6 8 10 12 14 16 18 20 22 24 26 28 30 32 34 36 38 40 42 44 46 48 50 52 54 56 58 60 62 64 66 68 70 72 74 76 78 80 82 84 86 88 90 92 94 96 98 100 Введите число: 3\n",
      "3 * 1 = 3\n",
      "3 * 2 = 6\n",
      "3 * 3 = 9\n",
      "3 * 4 = 12\n",
      "3 * 5 = 15\n",
      "3 * 6 = 18\n",
      "3 * 7 = 21\n",
      "3 * 8 = 24\n",
      "3 * 9 = 27\n",
      "3 * 10 = 30\n"
     ]
    }
   ],
   "source": [
    "# Определение знака числа\n",
    "\n",
    "число = int(input(\"Введите число: \"))\n",
    "\n",
    "if число > 0:\n",
    "\n",
    "  print(\"Число положительное\")\n",
    "\n",
    "elif число < 0:\n",
    "\n",
    "  print(\"Число отрицательное\")\n",
    "\n",
    "else:\n",
    "\n",
    "  print(\"Число равно нулю\")\n",
    "\n",
    "\n",
    "\n",
    "# Вывод четных чисел от 1 до 100\n",
    "\n",
    "for i in range(2, 101, 2):\n",
    "\n",
    "  print(i, end=\" \")\n",
    "\n",
    "\n",
    "\n",
    "# Таблица умножения\n",
    "\n",
    "число = int(input(\"Введите число: \"))\n",
    "\n",
    "for i in range(1, 11):\n",
    "\n",
    "  print(f\"{число} * {i} = {число * i}\")"
   ]
  },
  {
   "cell_type": "code",
   "execution_count": 14,
   "id": "dd10d03f-270a-4845-bcd1-102d8b2c002f",
   "metadata": {},
   "outputs": [
    {
     "name": "stdout",
     "output_type": "stream",
     "text": [
      "8\n",
      "5.0\n"
     ]
    }
   ],
   "source": [
    "# Функция для нахождения суммы двух чисел\n",
    "\n",
    "def сумма(a, b):\n",
    "\n",
    "  return a + b\n",
    "\n",
    "\n",
    "\n",
    "результат = сумма(5, 3)\n",
    "\n",
    "print(результат)  # 8\n",
    "\n",
    "\n",
    "\n",
    "# Функция для нахождения среднего арифметического списка чисел\n",
    "\n",
    "def среднее(числа):\n",
    "\n",
    "  return sum(числа) / len(числа)\n",
    "\n",
    "\n",
    "\n",
    "список_чисел = [1, 5, 3, 7, 9]\n",
    "\n",
    "среднее_значение = среднее(список_чисел)\n",
    "\n",
    "print(среднее_значение)  # 5.0"
   ]
  },
  {
   "cell_type": "markdown",
   "id": "4cbb3ee8-1a34-4f2b-88a2-af457416c48a",
   "metadata": {},
   "source": [
    "Упр. - Работа с типами данных"
   ]
  },
  {
   "cell_type": "code",
   "execution_count": 15,
   "id": "7e5f2f8b-340f-4420-ae56-44051e41019f",
   "metadata": {},
   "outputs": [
    {
     "name": "stdout",
     "output_type": "stream",
     "text": [
      "<class 'int'>\n",
      "<class 'float'>\n",
      "<class 'str'>\n",
      "<class 'bool'>\n",
      "25.0\n",
      "18.49\n",
      "Строка текста\n",
      "<class 'str'>\n",
      "<class 'int'>\n"
     ]
    }
   ],
   "source": [
    "целое_число = 50\n",
    "число_с_плавающей_точкой = 4.3\n",
    "строка = \"Строка\"\n",
    "логическое_значение = True\n",
    "\n",
    "print(type(целое_число))\n",
    "print(type(число_с_плавающей_точкой))\n",
    "print(type(строка))\n",
    "print(type(логическое_значение))\n",
    "\n",
    "print(целое_число / 2)\n",
    "print(число_с_плавающей_точкой ** 2)\n",
    "\n",
    "print(строка + \" текста\")\n",
    "\n",
    "print(type(str(целое_число)))\n",
    "print(type(int(целое_число)))"
   ]
  },
  {
   "cell_type": "markdown",
   "id": "500d1925-4b29-479c-b21e-9fb497d7278f",
   "metadata": {},
   "source": [
    "Упр. - Работа со списками"
   ]
  },
  {
   "cell_type": "code",
   "execution_count": 16,
   "id": "35470c66-25e5-48ca-8767-265ca480ca2d",
   "metadata": {},
   "outputs": [
    {
     "name": "stdout",
     "output_type": "stream",
     "text": [
      "Гарри Поттер и 1984\n",
      "1984 Мартин Иден\n",
      "['1984', 'Гарри Поттер', 'Мартин Иден']\n"
     ]
    }
   ],
   "source": [
    "любимые_книги = [\"Гарри Поттер\", \"Властелин колец\", \"1984\"]\n",
    "print(любимые_книги[0], \"и\", любимые_книги[2])\n",
    "любимые_книги.append(\"Мартин Иден\")\n",
    "del любимые_книги[1]\n",
    "print(любимые_книги[1], любимые_книги[2])\n",
    "любимые_книги.sort()\n",
    "print(любимые_книги)"
   ]
  },
  {
   "cell_type": "code",
   "execution_count": 17,
   "id": "87e247e1-7f28-4570-87de-2aba170fa493",
   "metadata": {},
   "outputs": [
    {
     "name": "stdout",
     "output_type": "stream",
     "text": [
      "[2, 4, 6]\n"
     ]
    }
   ],
   "source": [
    "исходный_список = [1,2,3,4,5,6]\n",
    "новый_список = []\n",
    "for i in исходный_список:\n",
    "    if i % 2 == 0:\n",
    "        новый_список.append(i)\n",
    "print(новый_список)"
   ]
  },
  {
   "cell_type": "markdown",
   "id": "4cb62120-4da2-4420-8eb0-160077023f14",
   "metadata": {},
   "source": [
    "Упр. - Работа со словарями"
   ]
  },
  {
   "cell_type": "code",
   "execution_count": 18,
   "id": "1960966f-77e3-4a73-b00d-d7a7a298ca98",
   "metadata": {},
   "outputs": [
    {
     "name": "stdout",
     "output_type": "stream",
     "text": [
      "Москва\n",
      "{'Россия': 'Москва', 'Франция': 'Париж', 'Германия': 'Берлин', 'Япония': 'Токио'}\n",
      "Токио\n"
     ]
    }
   ],
   "source": [
    "страны = {\"Россия\": \"Москва\", \"Франция\": \"Париж\", \"Германия\": \"Берлин\"}\n",
    "print(страны[\"Россия\"])\n",
    "страны[\"Япония\"] = \"Токио\"\n",
    "print(страны)\n",
    "if \"Япония\" in страны:\n",
    "    print(страны[\"Япония\"])\n",
    "else:\n",
    "    print(\"Столица Япония не найдена\")"
   ]
  },
  {
   "cell_type": "markdown",
   "id": "4c5ea20a-9854-44da-a4b9-172c5fd21f33",
   "metadata": {},
   "source": [
    "Упр. - Управляющие конструкции"
   ]
  },
  {
   "cell_type": "code",
   "execution_count": 19,
   "id": "34edc50c-13d3-4d44-90d5-8cc871d162c5",
   "metadata": {},
   "outputs": [
    {
     "name": "stdout",
     "output_type": "stream",
     "text": [
      "Введите число: 2\n",
      "Число положительное\n",
      "2 4 6 8 10 12 14 16 18 20 22 24 26 28 30 32 34 36 38 40 42 44 46 48 50 52 54 56 58 60 62 64 66 68 70 72 74 76 78 80 82 84 86 88 90 92 94 96 98 100 Введите число: 3\n",
      "3 * 1 = 3\n",
      "3 * 2 = 6\n",
      "3 * 3 = 9\n",
      "3 * 4 = 12\n",
      "3 * 5 = 15\n",
      "3 * 6 = 18\n",
      "3 * 7 = 21\n",
      "3 * 8 = 24\n",
      "3 * 9 = 27\n",
      "3 * 10 = 30\n"
     ]
    }
   ],
   "source": [
    "число = int(input(\"Введите число: \"))\n",
    "if число > 0:\n",
    "    print(\"Число положительное\")\n",
    "elif число < 0:\n",
    "    print(\"Число отрицательное\")\n",
    "else:\n",
    "    print(\"Число равно нулю\")\n",
    "\n",
    "# Вывод четных чисел от 1 до 100\n",
    "for i in range(2, 101, 2):\n",
    "    print(i, end=\" \")\n",
    "\n",
    "# Таблица умножения\n",
    "число = int(input(\"Введите число: \"))\n",
    "for i in range(1, 11):\n",
    "  print(f\"{число} * {i} = {число * i}\")"
   ]
  },
  {
   "cell_type": "markdown",
   "id": "ced37c9a-3f25-4c76-8fa5-90dbea974659",
   "metadata": {},
   "source": [
    "Упр. - Функции"
   ]
  },
  {
   "cell_type": "code",
   "execution_count": 20,
   "id": "afc344c5-48b2-487d-a12a-2883c65f82b9",
   "metadata": {},
   "outputs": [
    {
     "data": {
      "text/plain": [
       "10"
      ]
     },
     "execution_count": 20,
     "metadata": {},
     "output_type": "execute_result"
    }
   ],
   "source": [
    "def summ(a, b):\n",
    "    return a+b\n",
    "\n",
    "summ(3, 7)"
   ]
  },
  {
   "cell_type": "code",
   "execution_count": 21,
   "id": "f1b46b6d-007c-421e-b18e-00201627e17a",
   "metadata": {},
   "outputs": [
    {
     "data": {
      "text/plain": [
       "42.2"
      ]
     },
     "execution_count": 21,
     "metadata": {},
     "output_type": "execute_result"
    }
   ],
   "source": [
    "def avg(числа):\n",
    "    return sum(числа) / len(числа)\n",
    "\n",
    "\n",
    "список_чисел = [12, 51, 61, 63, 24]\n",
    "avg(список_чисел)"
   ]
  },
  {
   "cell_type": "code",
   "execution_count": 26,
   "id": "b49e65c5-8697-4e2a-91fb-7e29653ded57",
   "metadata": {},
   "outputs": [
    {
     "name": "stdout",
     "output_type": "stream",
     "text": [
      "Колличество гласных букв: 9\n"
     ]
    }
   ],
   "source": [
    "def words(строка):\n",
    "    new_list = 0\n",
    "    glasnie = set(\"ауоиэыяюеё\")\n",
    "    for i in строка:\n",
    "        if i in glasnie:\n",
    "            new_list += 1\n",
    "    return  print(f'Колличество гласных букв: {new_list}')\n",
    "\n",
    "word(\"Сегодня замечательный день\")"
   ]
  },
  {
   "cell_type": "code",
   "execution_count": 38,
   "id": "8373efe0-e53e-4d27-ac4f-12cdff901ca9",
   "metadata": {},
   "outputs": [
    {
     "name": "stdout",
     "output_type": "stream",
     "text": [
      "Марка: Nissan, Модель: Almera, Вид: Легковой авто\n",
      "Марка: Toyota, Модель: Avensis, Вид: Легковой авто\n"
     ]
    }
   ],
   "source": [
    "class Техника:\n",
    "    вид = \"Легковой авто\"  # Атрибут класса\n",
    "\n",
    "\n",
    "    def __init__(self, марка, модель):\n",
    "        self.марка = марка\n",
    "        self.модель = модель\n",
    "\n",
    "    def описание(self):\n",
    "        return f\"Марка: {self.марка}, Модель: {self.модель}, Вид: {self.вид}\"\n",
    "\n",
    "техника1 = Техника(\"Nissan\", \"Almera\")\n",
    "техника2 = Техника(\"Toyota\", \"Avensis\")\n",
    "\n",
    "print(техника1.описание()) \n",
    "print(техника2.описание()) "
   ]
  }
 ],
 "metadata": {
  "kernelspec": {
   "display_name": "Python 3 (ipykernel)",
   "language": "python",
   "name": "python3"
  },
  "language_info": {
   "codemirror_mode": {
    "name": "ipython",
    "version": 3
   },
   "file_extension": ".py",
   "mimetype": "text/x-python",
   "name": "python",
   "nbconvert_exporter": "python",
   "pygments_lexer": "ipython3",
   "version": "3.10.9"
  }
 },
 "nbformat": 4,
 "nbformat_minor": 5
}
