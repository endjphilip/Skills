{
 "cells": [
  {
   "cell_type": "code",
   "execution_count": 1,
   "id": "3bac6f52",
   "metadata": {},
   "outputs": [],
   "source": [
    "import sqlite3\n",
    "import pandas as pd\n",
    "import psycopg2"
   ]
  },
  {
   "cell_type": "markdown",
   "id": "63880266",
   "metadata": {},
   "source": [
    "Упражнения SQL"
   ]
  },
  {
   "cell_type": "code",
   "execution_count": 2,
   "id": "d3fecfa3",
   "metadata": {},
   "outputs": [],
   "source": [
    "conn = sqlite3.connect('products.db')\n",
    "\n",
    "cursor = conn.cursor()"
   ]
  },
  {
   "cell_type": "code",
   "execution_count": 3,
   "id": "2195ed76",
   "metadata": {},
   "outputs": [
    {
     "data": {
      "text/plain": [
       "<sqlite3.Cursor at 0x225cdb95340>"
      ]
     },
     "execution_count": 3,
     "metadata": {},
     "output_type": "execute_result"
    }
   ],
   "source": [
    "cursor.execute(\"\"\"CREATE TABLE IF NOT EXISTS products (\n",
    "                    id INT PRIMARY KEY,\n",
    "                    name VARCHAR(255),\n",
    "                    price INT,\n",
    "                    category VARCHAR(255))\"\"\")"
   ]
  },
  {
   "cell_type": "code",
   "execution_count": null,
   "id": "bc7a3a96",
   "metadata": {},
   "outputs": [],
   "source": [
    "cursor.execute(\"INSERT INTO products VALUES (1, 'Банан', 50, 'Фрукты'),\\\n",
    "                                            (2, 'Кефир', 70, 'Кисло-молочное'), \\\n",
    "                                            (3, 'Творог', 120, 'Кисло-молочное'), \\\n",
    "                                            (4, 'Макароны', 50, 'Гарниры'),\\\n",
    "                                            (5, 'Молоко', 75, 'Кисло-молочное'),\\\n",
    "                                            (6, 'Гречка', 40, 'Гарниры')\")\n",
    "conn.commit()"
   ]
  },
  {
   "cell_type": "markdown",
   "id": "108b457a",
   "metadata": {},
   "source": [
    " Упражнения SQLite"
   ]
  },
  {
   "cell_type": "code",
   "execution_count": 4,
   "id": "532f8561",
   "metadata": {},
   "outputs": [
    {
     "data": {
      "text/html": [
       "<div>\n",
       "<style scoped>\n",
       "    .dataframe tbody tr th:only-of-type {\n",
       "        vertical-align: middle;\n",
       "    }\n",
       "\n",
       "    .dataframe tbody tr th {\n",
       "        vertical-align: top;\n",
       "    }\n",
       "\n",
       "    .dataframe thead th {\n",
       "        text-align: right;\n",
       "    }\n",
       "</style>\n",
       "<table border=\"1\" class=\"dataframe\">\n",
       "  <thead>\n",
       "    <tr style=\"text-align: right;\">\n",
       "      <th></th>\n",
       "      <th>id</th>\n",
       "      <th>name</th>\n",
       "      <th>price</th>\n",
       "      <th>category</th>\n",
       "      <th>discount</th>\n",
       "      <th>revenue</th>\n",
       "    </tr>\n",
       "  </thead>\n",
       "  <tbody>\n",
       "    <tr>\n",
       "      <th>0</th>\n",
       "      <td>1</td>\n",
       "      <td>Банан</td>\n",
       "      <td>50</td>\n",
       "      <td>Фрукты</td>\n",
       "      <td>0.15</td>\n",
       "      <td>42.50</td>\n",
       "    </tr>\n",
       "    <tr>\n",
       "      <th>1</th>\n",
       "      <td>2</td>\n",
       "      <td>Кефир</td>\n",
       "      <td>70</td>\n",
       "      <td>Кисло-молочное</td>\n",
       "      <td>0.15</td>\n",
       "      <td>59.50</td>\n",
       "    </tr>\n",
       "    <tr>\n",
       "      <th>2</th>\n",
       "      <td>3</td>\n",
       "      <td>Творог</td>\n",
       "      <td>120</td>\n",
       "      <td>Кисло-молочное</td>\n",
       "      <td>0.15</td>\n",
       "      <td>102.00</td>\n",
       "    </tr>\n",
       "    <tr>\n",
       "      <th>3</th>\n",
       "      <td>4</td>\n",
       "      <td>Макароны</td>\n",
       "      <td>50</td>\n",
       "      <td>Гарниры</td>\n",
       "      <td>0.15</td>\n",
       "      <td>42.50</td>\n",
       "    </tr>\n",
       "    <tr>\n",
       "      <th>4</th>\n",
       "      <td>5</td>\n",
       "      <td>Молоко</td>\n",
       "      <td>75</td>\n",
       "      <td>Кисло-молочное</td>\n",
       "      <td>0.15</td>\n",
       "      <td>63.75</td>\n",
       "    </tr>\n",
       "    <tr>\n",
       "      <th>5</th>\n",
       "      <td>6</td>\n",
       "      <td>Гречка</td>\n",
       "      <td>40</td>\n",
       "      <td>Гарниры</td>\n",
       "      <td>0.15</td>\n",
       "      <td>34.00</td>\n",
       "    </tr>\n",
       "  </tbody>\n",
       "</table>\n",
       "</div>"
      ],
      "text/plain": [
       "   id      name  price        category  discount  revenue\n",
       "0   1     Банан     50          Фрукты      0.15    42.50\n",
       "1   2     Кефир     70  Кисло-молочное      0.15    59.50\n",
       "2   3    Творог    120  Кисло-молочное      0.15   102.00\n",
       "3   4  Макароны     50         Гарниры      0.15    42.50\n",
       "4   5    Молоко     75  Кисло-молочное      0.15    63.75\n",
       "5   6    Гречка     40         Гарниры      0.15    34.00"
      ]
     },
     "execution_count": 4,
     "metadata": {},
     "output_type": "execute_result"
    }
   ],
   "source": [
    "data = pd.read_sql_query(\"SELECT * FROM products\", conn)\n",
    "data"
   ]
  },
  {
   "cell_type": "code",
   "execution_count": 5,
   "id": "2debb13c",
   "metadata": {},
   "outputs": [
    {
     "data": {
      "text/html": [
       "<div>\n",
       "<style scoped>\n",
       "    .dataframe tbody tr th:only-of-type {\n",
       "        vertical-align: middle;\n",
       "    }\n",
       "\n",
       "    .dataframe tbody tr th {\n",
       "        vertical-align: top;\n",
       "    }\n",
       "\n",
       "    .dataframe thead th {\n",
       "        text-align: right;\n",
       "    }\n",
       "</style>\n",
       "<table border=\"1\" class=\"dataframe\">\n",
       "  <thead>\n",
       "    <tr style=\"text-align: right;\">\n",
       "      <th></th>\n",
       "      <th>id</th>\n",
       "      <th>name</th>\n",
       "      <th>price</th>\n",
       "      <th>category</th>\n",
       "      <th>discount</th>\n",
       "      <th>revenue</th>\n",
       "    </tr>\n",
       "  </thead>\n",
       "  <tbody>\n",
       "    <tr>\n",
       "      <th>1</th>\n",
       "      <td>2</td>\n",
       "      <td>Кефир</td>\n",
       "      <td>70</td>\n",
       "      <td>Кисло-молочное</td>\n",
       "      <td>0.15</td>\n",
       "      <td>59.50</td>\n",
       "    </tr>\n",
       "    <tr>\n",
       "      <th>2</th>\n",
       "      <td>3</td>\n",
       "      <td>Творог</td>\n",
       "      <td>120</td>\n",
       "      <td>Кисло-молочное</td>\n",
       "      <td>0.15</td>\n",
       "      <td>102.00</td>\n",
       "    </tr>\n",
       "    <tr>\n",
       "      <th>4</th>\n",
       "      <td>5</td>\n",
       "      <td>Молоко</td>\n",
       "      <td>75</td>\n",
       "      <td>Кисло-молочное</td>\n",
       "      <td>0.15</td>\n",
       "      <td>63.75</td>\n",
       "    </tr>\n",
       "  </tbody>\n",
       "</table>\n",
       "</div>"
      ],
      "text/plain": [
       "   id    name  price        category  discount  revenue\n",
       "1   2   Кефир     70  Кисло-молочное      0.15    59.50\n",
       "2   3  Творог    120  Кисло-молочное      0.15   102.00\n",
       "4   5  Молоко     75  Кисло-молочное      0.15    63.75"
      ]
     },
     "execution_count": 5,
     "metadata": {},
     "output_type": "execute_result"
    }
   ],
   "source": [
    "filtered = data[data['price'] > 50]\n",
    "filtered"
   ]
  },
  {
   "cell_type": "code",
   "execution_count": 6,
   "id": "0d450d64",
   "metadata": {},
   "outputs": [],
   "source": [
    "data['discount'] = 0.15"
   ]
  },
  {
   "cell_type": "code",
   "execution_count": 7,
   "id": "61670b1a",
   "metadata": {},
   "outputs": [],
   "source": [
    "data['revenue'] = data['price'] - (data['price'] * data['discount'])"
   ]
  },
  {
   "cell_type": "code",
   "execution_count": 8,
   "id": "c4a7d02e",
   "metadata": {},
   "outputs": [
    {
     "data": {
      "text/html": [
       "<div>\n",
       "<style scoped>\n",
       "    .dataframe tbody tr th:only-of-type {\n",
       "        vertical-align: middle;\n",
       "    }\n",
       "\n",
       "    .dataframe tbody tr th {\n",
       "        vertical-align: top;\n",
       "    }\n",
       "\n",
       "    .dataframe thead th {\n",
       "        text-align: right;\n",
       "    }\n",
       "</style>\n",
       "<table border=\"1\" class=\"dataframe\">\n",
       "  <thead>\n",
       "    <tr style=\"text-align: right;\">\n",
       "      <th></th>\n",
       "      <th>id</th>\n",
       "      <th>name</th>\n",
       "      <th>price</th>\n",
       "      <th>category</th>\n",
       "      <th>discount</th>\n",
       "      <th>revenue</th>\n",
       "    </tr>\n",
       "  </thead>\n",
       "  <tbody>\n",
       "    <tr>\n",
       "      <th>0</th>\n",
       "      <td>1</td>\n",
       "      <td>Банан</td>\n",
       "      <td>50</td>\n",
       "      <td>Фрукты</td>\n",
       "      <td>0.15</td>\n",
       "      <td>42.50</td>\n",
       "    </tr>\n",
       "    <tr>\n",
       "      <th>1</th>\n",
       "      <td>2</td>\n",
       "      <td>Кефир</td>\n",
       "      <td>70</td>\n",
       "      <td>Кисло-молочное</td>\n",
       "      <td>0.15</td>\n",
       "      <td>59.50</td>\n",
       "    </tr>\n",
       "    <tr>\n",
       "      <th>2</th>\n",
       "      <td>3</td>\n",
       "      <td>Творог</td>\n",
       "      <td>120</td>\n",
       "      <td>Кисло-молочное</td>\n",
       "      <td>0.15</td>\n",
       "      <td>102.00</td>\n",
       "    </tr>\n",
       "    <tr>\n",
       "      <th>3</th>\n",
       "      <td>4</td>\n",
       "      <td>Макароны</td>\n",
       "      <td>50</td>\n",
       "      <td>Гарниры</td>\n",
       "      <td>0.15</td>\n",
       "      <td>42.50</td>\n",
       "    </tr>\n",
       "    <tr>\n",
       "      <th>4</th>\n",
       "      <td>5</td>\n",
       "      <td>Молоко</td>\n",
       "      <td>75</td>\n",
       "      <td>Кисло-молочное</td>\n",
       "      <td>0.15</td>\n",
       "      <td>63.75</td>\n",
       "    </tr>\n",
       "    <tr>\n",
       "      <th>5</th>\n",
       "      <td>6</td>\n",
       "      <td>Гречка</td>\n",
       "      <td>40</td>\n",
       "      <td>Гарниры</td>\n",
       "      <td>0.15</td>\n",
       "      <td>34.00</td>\n",
       "    </tr>\n",
       "  </tbody>\n",
       "</table>\n",
       "</div>"
      ],
      "text/plain": [
       "   id      name  price        category  discount  revenue\n",
       "0   1     Банан     50          Фрукты      0.15    42.50\n",
       "1   2     Кефир     70  Кисло-молочное      0.15    59.50\n",
       "2   3    Творог    120  Кисло-молочное      0.15   102.00\n",
       "3   4  Макароны     50         Гарниры      0.15    42.50\n",
       "4   5    Молоко     75  Кисло-молочное      0.15    63.75\n",
       "5   6    Гречка     40         Гарниры      0.15    34.00"
      ]
     },
     "execution_count": 8,
     "metadata": {},
     "output_type": "execute_result"
    }
   ],
   "source": [
    "data"
   ]
  },
  {
   "cell_type": "code",
   "execution_count": 9,
   "id": "4381a1c7",
   "metadata": {},
   "outputs": [
    {
     "data": {
      "text/plain": [
       "6"
      ]
     },
     "execution_count": 9,
     "metadata": {},
     "output_type": "execute_result"
    }
   ],
   "source": [
    "data.to_sql(\"products\", conn, if_exists=\"replace\",index=False)"
   ]
  },
  {
   "cell_type": "code",
   "execution_count": 10,
   "id": "79248604",
   "metadata": {},
   "outputs": [
    {
     "name": "stdout",
     "output_type": "stream",
     "text": [
      "(1, 'Банан', 50, 'Фрукты', 0.15, 42.5)\n",
      "(2, 'Кефир', 70, 'Кисло-молочное', 0.15, 59.5)\n",
      "(3, 'Творог', 120, 'Кисло-молочное', 0.15, 102.0)\n",
      "(4, 'Макароны', 50, 'Гарниры', 0.15, 42.5)\n",
      "(5, 'Молоко', 75, 'Кисло-молочное', 0.15, 63.75)\n",
      "(6, 'Гречка', 40, 'Гарниры', 0.15, 34.0)\n"
     ]
    }
   ],
   "source": [
    "cursor.execute(\"SELECT * FROM products\")\n",
    "for row in cursor.fetchall():\n",
    "    print(row)"
   ]
  },
  {
   "cell_type": "markdown",
   "id": "f50a4110",
   "metadata": {},
   "source": [
    " Упражнения PostgreSQL"
   ]
  },
  {
   "cell_type": "code",
   "execution_count": null,
   "id": "f6b19a51",
   "metadata": {},
   "outputs": [],
   "source": [
    "pip install psycopg2"
   ]
  },
  {
   "cell_type": "code",
   "execution_count": null,
   "id": "88956899",
   "metadata": {},
   "outputs": [],
   "source": [
    "pip install PostgreSQL"
   ]
  },
  {
   "cell_type": "code",
   "execution_count": 28,
   "id": "7493867d",
   "metadata": {},
   "outputs": [],
   "source": [
    "conn_params = {\n",
    "    'host': '172.17.1.49',\n",
    "    'port': 5432,\n",
    "    'database': 'module1',\n",
    "    'user': 'da',\n",
    "    'password': 'da2024DE@'\n",
    "}"
   ]
  },
  {
   "cell_type": "code",
   "execution_count": 29,
   "id": "30d90bc8",
   "metadata": {},
   "outputs": [],
   "source": [
    "conn = psycopg2.connect(**conn_params)"
   ]
  },
  {
   "cell_type": "code",
   "execution_count": 30,
   "id": "28dd1f50",
   "metadata": {},
   "outputs": [],
   "source": [
    "cursor = conn.cursor()"
   ]
  },
  {
   "cell_type": "code",
   "execution_count": 31,
   "id": "75131399",
   "metadata": {},
   "outputs": [],
   "source": [
    "cursor.execute('''CREATE TABLE IF NOT EXISTS users123 (\n",
    "                    id INTEGER PRIMARY KEY,\n",
    "                    username VARCHAR(255),\n",
    "                    email VARCHAR(255),\n",
    "                    passwords VARCHAR(255))''')"
   ]
  },
  {
   "cell_type": "code",
   "execution_count": 32,
   "id": "d1b5169b",
   "metadata": {},
   "outputs": [],
   "source": [
    "cursor.execute(\"INSERT INTO users123 VALUES (1, 'user1', 'user1@gmail.com', 'qwe123'),\\\n",
    "                                         (2, 'user2', 'user2@mail.ru', 'qwer1234'), \\\n",
    "                                         (3, 'user3', 'user3@yandex.ru', 'ewq321')\")\n",
    "\n",
    "conn.commit()"
   ]
  },
  {
   "cell_type": "markdown",
   "id": "26dc4609",
   "metadata": {},
   "source": [
    "Упражнения DML"
   ]
  },
  {
   "cell_type": "code",
   "execution_count": 33,
   "id": "a04d54b7",
   "metadata": {},
   "outputs": [
    {
     "name": "stdout",
     "output_type": "stream",
     "text": [
      "(1, 'user1', 'user1@gmail.com', 'qwe123')\n"
     ]
    }
   ],
   "source": [
    "cursor.execute(\"SELECT * FROM users123 WHERE email = 'user1@gmail.com'\")\n",
    "\n",
    "for row in cursor.fetchall():\n",
    "    print(row)"
   ]
  },
  {
   "cell_type": "code",
   "execution_count": 34,
   "id": "b121f95f",
   "metadata": {},
   "outputs": [],
   "source": [
    "cursor.execute(\"UPDATE users123 SET passwords = 'pass' WHERE id = 3\")"
   ]
  },
  {
   "cell_type": "code",
   "execution_count": 36,
   "id": "e14ac812",
   "metadata": {},
   "outputs": [
    {
     "name": "stdout",
     "output_type": "stream",
     "text": [
      "(1, 'user1', 'user1@gmail.com', 'qwe123')\n",
      "(2, 'user2', 'user2@mail.ru', 'qwer1234')\n",
      "(3, 'user3', 'user3@yandex.ru', 'pass')\n"
     ]
    }
   ],
   "source": [
    "cursor.execute(\"SELECT * FROM users123\")\n",
    "for row in cursor.fetchall():\n",
    "    print(row)"
   ]
  },
  {
   "cell_type": "code",
   "execution_count": 37,
   "id": "00875400",
   "metadata": {},
   "outputs": [],
   "source": [
    "cursor.execute(\"DELETE FROM users123 WHERE username = 'user2'\")"
   ]
  },
  {
   "cell_type": "code",
   "execution_count": 38,
   "id": "112a924e",
   "metadata": {},
   "outputs": [
    {
     "name": "stdout",
     "output_type": "stream",
     "text": [
      "(1, 'user1', 'user1@gmail.com', 'qwe123')\n",
      "(3, 'user3', 'user3@yandex.ru', 'pass')\n"
     ]
    }
   ],
   "source": [
    "cursor.execute(\"SELECT * FROM users123\")\n",
    "for row in cursor.fetchall():\n",
    "    print(row)"
   ]
  },
  {
   "cell_type": "code",
   "execution_count": 39,
   "id": "7051c8b0",
   "metadata": {},
   "outputs": [],
   "source": [
    "cursor.close()\n",
    "conn.close()"
   ]
  },
  {
   "cell_type": "markdown",
   "id": "2eab3e73",
   "metadata": {},
   "source": [
    "Упражнения - Интеграция с Pandas"
   ]
  },
  {
   "cell_type": "code",
   "execution_count": 41,
   "id": "0c14f3f7",
   "metadata": {},
   "outputs": [],
   "source": [
    "conn = sqlite3.connect('products.db')\n",
    "cursor = conn.cursor()"
   ]
  },
  {
   "cell_type": "code",
   "execution_count": 42,
   "id": "d84ac9ea",
   "metadata": {},
   "outputs": [],
   "source": [
    "df = pd.read_sql_query(\"SELECT * FROM products\", conn)"
   ]
  },
  {
   "cell_type": "code",
   "execution_count": 44,
   "id": "17b99c23",
   "metadata": {},
   "outputs": [
    {
     "data": {
      "text/html": [
       "<div>\n",
       "<style scoped>\n",
       "    .dataframe tbody tr th:only-of-type {\n",
       "        vertical-align: middle;\n",
       "    }\n",
       "\n",
       "    .dataframe tbody tr th {\n",
       "        vertical-align: top;\n",
       "    }\n",
       "\n",
       "    .dataframe thead th {\n",
       "        text-align: right;\n",
       "    }\n",
       "</style>\n",
       "<table border=\"1\" class=\"dataframe\">\n",
       "  <thead>\n",
       "    <tr style=\"text-align: right;\">\n",
       "      <th></th>\n",
       "      <th>id</th>\n",
       "      <th>name</th>\n",
       "      <th>price</th>\n",
       "      <th>category</th>\n",
       "      <th>discount</th>\n",
       "      <th>revenue</th>\n",
       "    </tr>\n",
       "  </thead>\n",
       "  <tbody>\n",
       "    <tr>\n",
       "      <th>0</th>\n",
       "      <td>1</td>\n",
       "      <td>Банан</td>\n",
       "      <td>50</td>\n",
       "      <td>Фрукты</td>\n",
       "      <td>0.15</td>\n",
       "      <td>42.50</td>\n",
       "    </tr>\n",
       "    <tr>\n",
       "      <th>1</th>\n",
       "      <td>2</td>\n",
       "      <td>Кефир</td>\n",
       "      <td>70</td>\n",
       "      <td>Кисло-молочное</td>\n",
       "      <td>0.15</td>\n",
       "      <td>59.50</td>\n",
       "    </tr>\n",
       "    <tr>\n",
       "      <th>2</th>\n",
       "      <td>3</td>\n",
       "      <td>Творог</td>\n",
       "      <td>120</td>\n",
       "      <td>Кисло-молочное</td>\n",
       "      <td>0.15</td>\n",
       "      <td>102.00</td>\n",
       "    </tr>\n",
       "    <tr>\n",
       "      <th>3</th>\n",
       "      <td>4</td>\n",
       "      <td>Макароны</td>\n",
       "      <td>50</td>\n",
       "      <td>Гарниры</td>\n",
       "      <td>0.15</td>\n",
       "      <td>42.50</td>\n",
       "    </tr>\n",
       "    <tr>\n",
       "      <th>4</th>\n",
       "      <td>5</td>\n",
       "      <td>Молоко</td>\n",
       "      <td>75</td>\n",
       "      <td>Кисло-молочное</td>\n",
       "      <td>0.15</td>\n",
       "      <td>63.75</td>\n",
       "    </tr>\n",
       "    <tr>\n",
       "      <th>5</th>\n",
       "      <td>6</td>\n",
       "      <td>Гречка</td>\n",
       "      <td>40</td>\n",
       "      <td>Гарниры</td>\n",
       "      <td>0.15</td>\n",
       "      <td>34.00</td>\n",
       "    </tr>\n",
       "  </tbody>\n",
       "</table>\n",
       "</div>"
      ],
      "text/plain": [
       "   id      name  price        category  discount  revenue\n",
       "0   1     Банан     50          Фрукты      0.15    42.50\n",
       "1   2     Кефир     70  Кисло-молочное      0.15    59.50\n",
       "2   3    Творог    120  Кисло-молочное      0.15   102.00\n",
       "3   4  Макароны     50         Гарниры      0.15    42.50\n",
       "4   5    Молоко     75  Кисло-молочное      0.15    63.75\n",
       "5   6    Гречка     40         Гарниры      0.15    34.00"
      ]
     },
     "execution_count": 44,
     "metadata": {},
     "output_type": "execute_result"
    }
   ],
   "source": [
    "df = pd.DataFrame(df)"
   ]
  },
  {
   "cell_type": "code",
   "execution_count": 45,
   "id": "d6d36e70",
   "metadata": {},
   "outputs": [],
   "source": [
    "df = df[df['price'] > 50]"
   ]
  },
  {
   "cell_type": "code",
   "execution_count": 46,
   "id": "73d4b8b4",
   "metadata": {},
   "outputs": [
    {
     "data": {
      "text/plain": [
       "3"
      ]
     },
     "execution_count": 46,
     "metadata": {},
     "output_type": "execute_result"
    }
   ],
   "source": [
    "df.to_sql(\"products\", conn, if_exists=\"replace\",index=False)"
   ]
  },
  {
   "cell_type": "code",
   "execution_count": 47,
   "id": "1e637497",
   "metadata": {},
   "outputs": [
    {
     "name": "stdout",
     "output_type": "stream",
     "text": [
      "(2, 'Кефир', 70, 'Кисло-молочное', 0.15, 59.5)\n",
      "(3, 'Творог', 120, 'Кисло-молочное', 0.15, 102.0)\n",
      "(5, 'Молоко', 75, 'Кисло-молочное', 0.15, 63.75)\n"
     ]
    }
   ],
   "source": [
    "cursor.execute(\"SELECT * FROM products\")\n",
    "for row in cursor.fetchall():\n",
    "    print(row)"
   ]
  },
  {
   "cell_type": "code",
   "execution_count": null,
   "id": "ffd0b04e",
   "metadata": {},
   "outputs": [],
   "source": []
  }
 ],
 "metadata": {
  "kernelspec": {
   "display_name": "Python 3 (ipykernel)",
   "language": "python",
   "name": "python3"
  },
  "language_info": {
   "codemirror_mode": {
    "name": "ipython",
    "version": 3
   },
   "file_extension": ".py",
   "mimetype": "text/x-python",
   "name": "python",
   "nbconvert_exporter": "python",
   "pygments_lexer": "ipython3",
   "version": "3.10.9"
  }
 },
 "nbformat": 4,
 "nbformat_minor": 5
}
